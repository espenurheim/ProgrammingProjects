{
 "cells": [
  {
   "cell_type": "markdown",
   "id": "ef5c40ce",
   "metadata": {},
   "source": [
    "# Numerical Mathematics - Project 1\n",
    "\n",
    "## Candidate number: 10084\n",
    "\n",
    "***\n",
    "Systems of equations can be written on the form $A\\boldsymbol{x}=\\boldsymbol{y}$, where $A\\in\\mathbb{R}^{mxn}$, $\\boldsymbol{x}\\in\\mathbb{R}^n$ and $\\boldsymbol{y}\\in\\mathbb{R}^m$. If $m<n$, we say the system is underdetermined, meaning that we have less equations than we have unknowns. In order to solve such problems, there are several different approaches one can take. In this project, we will take a look at two of them: solving using a minimal norm approximation, where the goal is to minimize the norm $\\|A\\boldsymbol{x}-\\boldsymbol{y}\\|$, and Tikhonov regularization, where we also want the approximated $x$ to be as small as possible. In the final task, we use the implemented methods of solving such equations on a practical example; separating mixed images."
   ]
  },
  {
   "cell_type": "markdown",
   "id": "48857a37",
   "metadata": {},
   "source": [
    "### Task 1)\n",
    "\n",
    "We start off by looking at the minimal norm solution, where our goal is to minimize the norm of the difference between $A\\boldsymbol{x}$ and $\\boldsymbol{y}$, i.e.\n",
    "\n",
    "$$\n",
    "\\underset{\\boldsymbol{x}\\in\\mathbb{R}^n}{\\text{arg min}}\\hspace{0.1cm} \\|Ax-y\\|.\n",
    "$$\n",
    "\n",
    "First we look at some examples of what underdetermined linear systems of equations may look like and some properties of matrices involved in calculations, before we dive into methods of solving the minimizartion problem.\n",
    "\n",
    "#### a)\n",
    "\n",
    "Let us assume $A\\in\\mathbb{R}^{2\\times 3}$, $\\boldsymbol{x}\\in\\mathbb{R}^{3}$ and $\\boldsymbol{y}\\in\\mathbb{R}^{2}$. The linear system of equations $Ax=y$ will (1) have no solutions if $\\boldsymbol{y}$ is not in the column space of $A$, and will (2) have infinitely many solutions if $\\boldsymbol{y}$ is in the column space of $A$. For example, the equation has no solutions if\n",
    "\n",
    "$$\n",
    "A = \\begin{bmatrix}2&2&2 \\\\ 1&1&1 \\end{bmatrix}, \\boldsymbol{y}=\\begin{bmatrix}3\\\\1\\end{bmatrix}\n",
    "$$\n",
    "\n",
    "and there will be infinitely many solutions if \n",
    "\n",
    "$$\n",
    "A = \\begin{bmatrix}4&3&2 \\\\ 3&2&1 \\end{bmatrix}, \\boldsymbol{y}=\\begin{bmatrix}2\\\\1\\end{bmatrix}.\n",
    "$$\n",
    "***"
   ]
  },
  {
   "cell_type": "markdown",
   "id": "6fb00875",
   "metadata": {},
   "source": [
    "#### b)\n",
    "\n",
    "Now we look at the two matrices $A^TA$ and $AA^T$. By using the identity $(BC)^T=C^T B^T$, we get that $(A^TA)^T=A^T (A^T)^T=A^TA$, and similarly that $(AA^T)^T=(A^T)^TA^T=AA^T$. This means that the matrices $A^TA$ and $AA^T$ are symmetric.\n",
    "\n",
    "By using that $\\boldsymbol{x}^T\\boldsymbol{x}=\\|\\boldsymbol{x}\\|^2$, and the fact that a vector norm is non-negative, we can prove that these two matrices are positive semi-definite, i.e., $\\boldsymbol{x}^T A^T A \\boldsymbol{x}\\geq 0$ and $\\boldsymbol{x}^T A A^T \\boldsymbol{x}\\geq 0$.\n",
    "\n",
    "$$\n",
    "\\boldsymbol{x}^T A^T A \\boldsymbol{x}=(A\\boldsymbol{x})^T A\\boldsymbol{x}=\\|A\\boldsymbol{x}\\|^2\\geq 0. \\quad \\square\n",
    "$$\n",
    "\n",
    "Similarly, \n",
    "\n",
    "$$\n",
    "\\boldsymbol{x}^T AA^T \\boldsymbol{x}=(A^T\\boldsymbol{x})^T A^T\\boldsymbol{x}=\\|A^T\\boldsymbol{x}\\|^2\\geq 0. \\quad \\square\n",
    "$$\n",
    "\n",
    "Now we assume that $A$ has full rank, i.e. $rank(A)=m$. If we can prove that $rank(A^TA)=rank(AA^T)=rank(A)$, we can make further conclusions about the invertibility of $A^TA$ and $AA^T$. We start by looking at a vector $\\boldsymbol{x}\\in Null(A)$, where $Null(A)$ is the nullspace of $A$.\n",
    "\n",
    "$$\n",
    "A\\boldsymbol{x}=0\\Rightarrow A^TA\\boldsymbol{x}=0\\Rightarrow \\boldsymbol{x}\\in Null(A^TA)\\subseteq Null(A)\n",
    "$$\n",
    "\n",
    "The other way around, for a vector $\\boldsymbol{x}\\in Null(A^TA)$, we get\n",
    "\n",
    "$$\n",
    "A^TA\\boldsymbol{x}=0\\Rightarrow \\boldsymbol{x}^TA^TA\\boldsymbol{x}=0\\Rightarrow (A\\boldsymbol{x})^TA\\boldsymbol{x}=0\\Rightarrow A\\boldsymbol{x}=0\\Rightarrow Null(A)\\subseteq Null(A^TA)\n",
    "$$\n",
    "\n",
    "Hence we get that \n",
    "\n",
    "$$\n",
    "Null(A)=Null(A^TA)\\\\\n",
    "dim(Null(A))=dim(Null(A^TA))\\\\\n",
    "rank(A)=rank(A^TA)\n",
    "$$\n",
    "\n",
    "Similarly, by substituting $A^T$ for $A$, we get that $rank(A^T)=rank(AA^T)$. We know that $rank(A^T)=rank(A)$, and thus we have proven that $rank(A^TA)=rank(AA^T)=rank(A)=m$. Since $A^TA\\in\\mathbb{R}^{n\\times n}$ and $AA^T\\in\\mathbb{R}^{m\\times m}$, where $m<n$, we can conclude that $AA^T$ has full rank, while $A^TA$ does not. Thus, $AA^T$ is invertible and $A^TA$ is not.\n",
    "***"
   ]
  },
  {
   "cell_type": "markdown",
   "id": "e7165d9f",
   "metadata": {},
   "source": [
    "#### c)\n",
    "\n",
    "Now we move on to solving the minimization problem, \n",
    "\n",
    "$$\n",
    "\\underset{\\boldsymbol{x}\\in\\mathbb{R}^n}{\\text{arg min}}\\hspace{0.1cm} \\|Ax-y\\|.\n",
    "$$\n",
    "\n",
    "The Lagrange function of the problem is\n",
    "\n",
    "$$\n",
    "\\mathcal{L}(\\boldsymbol{x},\\boldsymbol{\\lambda})=\\boldsymbol{x}^T\\boldsymbol{x} + \\boldsymbol{\\lambda}^T(A\\boldsymbol{x}-\\boldsymbol{y}).\n",
    "$$\n",
    "\n",
    "From this we can solve for $x_{min}$, which satisfies\n",
    "\n",
    "$$\n",
    "\\nabla_x \\mathcal{L}(x_{min},\\lambda)=\\nabla_\\lambda\\mathcal{L}(x_{min},\\lambda)=0.\n",
    "$$\n",
    "\n",
    "I find the gradients by using that $x^Tx=\\|x\\|^2=\\sum_{i=1}^{n}x_i^2$, and that $\\boldsymbol{\\lambda}^T(A\\boldsymbol{x}-\\boldsymbol{y})=\\sum_{j=0}^{n} \\sum_{i=0}^{n} \\lambda_j (a_{ji}x_i-y_i)$. This gives\n",
    "\n",
    "$$\n",
    "\\nabla_x\\mathcal{L}(\\boldsymbol{x},\\lambda)=2\\boldsymbol{x}+A^T\\lambda=0 \\quad (1)\n",
    "$$\n",
    "and\n",
    "$$\n",
    "\\nabla_\\lambda\\mathcal{L}(\\boldsymbol{x},\\lambda)=A\\boldsymbol{x}-\\boldsymbol{y}=0 \\quad (2)\n",
    "$$\n",
    "\n",
    "Solving (1) for $\\boldsymbol{x_{min}}$ and inserting into (2), gives\n",
    "\n",
    "$$\n",
    "\\boldsymbol{x_{min}}=-\\frac{A^T\\lambda}{2}\\Rightarrow A(-\\frac{A^T\\lambda}{2})-\\boldsymbol{y}=0\\Rightarrow \\lambda=-2(AA^T)^{-1}\\boldsymbol{y}.\n",
    "$$\n",
    "\n",
    "Combined with (1),\n",
    "\n",
    "$$\n",
    "\\boldsymbol{x_{min}}=-\\frac{A^T\\lambda}{2}=-\\frac{A^T (-2(AA^T)^{-1}\\boldsymbol{y})}{2}=A^T(AA^T)^{-1}\\boldsymbol{y}\n",
    "$$\n",
    "\n",
    "***"
   ]
  },
  {
   "cell_type": "markdown",
   "id": "0711501e",
   "metadata": {},
   "source": [
    "#### d)\n",
    "Now we define the $QR$-decomposition of $A^T$ s.t. $A^T=QR$ and $A=R^TQ^T$. Inserting this into the expression for $\\boldsymbol{x_{min}}$, and using that $Q$ is defined to be orthogonal, i.e. $Q^TQ=QQ^T=I$, we get that\n",
    "\n",
    "$$\n",
    "\\boldsymbol{x_{min}}=QR(R^TQ^TQR)^{-1}\\boldsymbol{y}=QR(R^TR)^{-1}\\boldsymbol{y}=QRR^{-1}R^{-T}\\boldsymbol{y}=QR^{-T}\\boldsymbol{y}.\n",
    "$$\n",
    "\n"
   ]
  },
  {
   "cell_type": "markdown",
   "id": "1221dcc6",
   "metadata": {},
   "source": [
    "In order to find the $QR$-decomposition, I implement the Gram-Schmidt method in `gram_schmidt()`."
   ]
  },
  {
   "cell_type": "code",
   "execution_count": 1,
   "id": "537033f8",
   "metadata": {},
   "outputs": [],
   "source": [
    "import numpy as np\n",
    "import scipy as sp\n",
    "from scipy import linalg\n",
    "import matplotlib.pyplot as plt"
   ]
  },
  {
   "cell_type": "code",
   "execution_count": 2,
   "id": "9a610f5a",
   "metadata": {},
   "outputs": [],
   "source": [
    "def gram_schmidt(A):\n",
    "    \"\"\"\n",
    "    Performs Gram-Schmidt orthonormalization, returning QR=A\n",
    "    Input:\n",
    "        A: nxm (tall) matrix (n>m)\n",
    "    Output:\n",
    "        Q: Orthogonal matrix\n",
    "        R: Upper triangular matrix\n",
    "    \"\"\"\n",
    "\n",
    "    # Find n and m\n",
    "    n,m = A.shape\n",
    "    \n",
    "    # Initialize Q and R as zero-matrices\n",
    "    Q = np.zeros((m,n))\n",
    "    R = np.zeros((m,m))\n",
    "    \n",
    "    A = A.T # Transpose to avoid slicing in the for-loop\n",
    "    \n",
    "    # Initialize first column in Q and R\n",
    "    Q[0] = A[0]/sp.linalg.norm(A[0], 2)\n",
    "    R[0,0] = np.inner(A[0],Q[0])\n",
    "    \n",
    "    # Fill in Q and R iteratively using the Gram-Schmidt algorithm\n",
    "    for k in range(1, m):\n",
    "        u_k = A[k].astype(np.float64)\n",
    "        for j in range(0, k):\n",
    "            r = np.inner(A[k],Q[j])\n",
    "            R[j,k] = r\n",
    "            u_k -= r*Q[j].astype(np.float64)\n",
    "            \n",
    "        q_k = u_k / sp.linalg.norm(u_k,2)\n",
    "        Q[k] = q_k\n",
    "        R[k,k] = np.inner(A[k],Q[k])\n",
    "    \n",
    "    return Q.T, R"
   ]
  },
  {
   "cell_type": "markdown",
   "id": "cf7f3f5d",
   "metadata": {},
   "source": [
    "***\n",
    "\n",
    "#### e)\n",
    "Now that we have the $QR$-decomposition, we want to calculate $\\boldsymbol{x_{min}}$. Calculating the inverse of $R^T$, however, requires heavy computations, and to avoid this we exploit that $R^T$ is lower triangular and that $Q$ is orthogonal. Backwards substitution gives\n",
    "\n",
    "$$\n",
    "\\boldsymbol{x_{min}}=QR^{-T}\\boldsymbol{y}\\Rightarrow R^T Q^T\\boldsymbol{x_{min}}=\\boldsymbol{y}, Q^T \\boldsymbol{x_{min}} = \\boldsymbol{z} \\Rightarrow R^T \\boldsymbol{z}=\\boldsymbol{y}.\n",
    "$$\n",
    "\n",
    "Since $R^T$ is lower triangular, these computations are easy. We first solve for $\\boldsymbol{z}$ in the final equation, and use $\\boldsymbol{x_{min}}=Q\\boldsymbol{z}$ to calculate $\\boldsymbol{x_{min}}$. This is implemented in the function `solve_QR()` below."
   ]
  },
  {
   "cell_type": "code",
   "execution_count": 3,
   "id": "32335d92",
   "metadata": {},
   "outputs": [],
   "source": [
    "def solve_QR(Q, R, y):\n",
    "    \"\"\"\n",
    "    Solves a QR-decompositioning for x\n",
    "    Input:\n",
    "        Q: Orthogonal (mxn)-matrix\n",
    "        R: Upper triangular (mxm)-matrix\n",
    "        y: n-dimensional vector\n",
    "    Output:\n",
    "        x_min, an approximated solution to the minimization problem\n",
    "    \"\"\"\n",
    "    \n",
    "    z = sp.linalg.solve_triangular(R.T, y, lower=True)\n",
    "    return Q@z"
   ]
  },
  {
   "cell_type": "markdown",
   "id": "e52386d8",
   "metadata": {},
   "source": [
    "***\n",
    "#### f)\n",
    "\n",
    "To test the implemented method of solving $\\boldsymbol{y}=A\\boldsymbol{x}$ using $QR$-decomposition, we compare it to Scipy's function `scipy.linalg.solve()`. First we include the given code to generate a random mxn-matrix $A$, as well as code to create a set of $N=100$ random x- and y-vectors that satisfy $\\boldsymbol{y}=A\\boldsymbol{x}$. The $x$ that we calculate will later be referred to as $x_{true}$, as this is a true solution to the equation."
   ]
  },
  {
   "cell_type": "code",
   "execution_count": 4,
   "id": "bed9bc9a",
   "metadata": {},
   "outputs": [],
   "source": [
    "def generate_A(m,n):\n",
    "    \"\"\"\n",
    "    Generates m times n with correlated columns.\n",
    "    Input:\n",
    "        m: int, first dimension of A\n",
    "        n: int, second dimension of A\n",
    "    output:\n",
    "        A: (m,n) array\n",
    "    \"\"\"\n",
    "\n",
    "    cov_eigvecs = np.random.uniform(-1.0,1.0,(n,n))\n",
    "    cov = cov_eigvecs.T @ cov_eigvecs\n",
    "    v = np.sqrt(np.diag(cov))\n",
    "    outer_v = np.outer(v, v)\n",
    "    corr = cov / outer_v\n",
    "    corr[cov == 0] = 0\n",
    "    chol = sp.linalg.cholesky(corr, lower=True) \n",
    "    A = np.random.normal(0, 1.0,(m,n))\n",
    "    A = np.dot(A,chol.T)\n",
    "    return A\n",
    "\n",
    "m = 2048\n",
    "n = 8096\n",
    "A = generate_A(m,n)"
   ]
  },
  {
   "cell_type": "code",
   "execution_count": 5,
   "id": "3e16e9e0",
   "metadata": {},
   "outputs": [
    {
     "name": "stdout",
     "output_type": "stream",
     "text": [
      "(8096, 100)\n",
      "(2048, 100)\n"
     ]
    }
   ],
   "source": [
    "N = 100 # Number of test data we want to generate\n",
    "\n",
    "# Generate solutions X columnwise, X[:,i] to access i-th vector\n",
    "X = np.random.normal(0.0,1.0,(A.shape[1],N))\n",
    "\n",
    "# Generate left hand sides Y columnwise Y[:,i] to access lhs\n",
    "Y = np.dot(A,X)\n",
    "\n",
    "# Doublecheck shapes\n",
    "print(X.shape) # Expect (n,N)\n",
    "print(Y.shape) # Expect (m,N)"
   ]
  },
  {
   "cell_type": "markdown",
   "id": "7c573fa2",
   "metadata": {},
   "source": [
    "When comparing the two methods, we first look at how long it takes to prepare the necessary matrices. To use `numpy.linalg.solve()` we need to prepare $AA^T$ (since Python calculates $A^T$ very fast, $AA^T$ is the main matrix of interest for our test), and to use `solve_QR()` we need to perform the $QR$-decomposition implemented in `gram_schmidt()`. We time each calculation using the `%%timeit`-command."
   ]
  },
  {
   "cell_type": "code",
   "execution_count": 6,
   "id": "75216348",
   "metadata": {},
   "outputs": [
    {
     "name": "stdout",
     "output_type": "stream",
     "text": [
      "391 ms ± 30 ms per loop (mean ± std. dev. of 5 runs, 1 loop each)\n"
     ]
    }
   ],
   "source": [
    "%%timeit -r 5\n",
    "AAT = A@A.T"
   ]
  },
  {
   "cell_type": "code",
   "execution_count": 7,
   "id": "8a113aab",
   "metadata": {},
   "outputs": [
    {
     "name": "stdout",
     "output_type": "stream",
     "text": [
      "37.9 s ± 3.24 s per loop (mean ± std. dev. of 5 runs, 1 loop each)\n"
     ]
    }
   ],
   "source": [
    "%%timeit -r 5\n",
    "Q,R = gram_schmidt(A.T)"
   ]
  },
  {
   "cell_type": "markdown",
   "id": "ad1ac17a",
   "metadata": {},
   "source": [
    "It is clear that calculating $AA^T$ is faster than performing a $QR$-decomposition. Whereas calculating $AA^T$ averages at about 400 ms, the $QR$-decomposition uses around 35 seconds. Next, we need to look at how long it takes to solve the equation $\\boldsymbol{y}=A\\boldsymbol{x}$ once the initial matrices are prepared. Since calculations using `numpy.linalg.solve()` performs an entire LU-decompositioning and forwards/backwards substitution, which we do not in `solve_QR()`, I expect `numpy.linalg.solve()` to be slower than `solve_QR()`."
   ]
  },
  {
   "cell_type": "code",
   "execution_count": 8,
   "id": "6b9fe055",
   "metadata": {},
   "outputs": [],
   "source": [
    "AAT = A@A.T\n",
    "Q,R = gram_schmidt(A.T)"
   ]
  },
  {
   "cell_type": "code",
   "execution_count": 9,
   "id": "953d06b5",
   "metadata": {},
   "outputs": [
    {
     "name": "stdout",
     "output_type": "stream",
     "text": [
      "16.4 s ± 604 ms per loop (mean ± std. dev. of 5 runs, 1 loop each)\n"
     ]
    }
   ],
   "source": [
    "%%timeit -r 5 -n 1\n",
    "for y in Y.T:\n",
    "    z = np.linalg.solve(AAT, y)\n",
    "    x_min = A.T@z"
   ]
  },
  {
   "cell_type": "code",
   "execution_count": 10,
   "id": "e9a96bfb",
   "metadata": {},
   "outputs": [
    {
     "name": "stdout",
     "output_type": "stream",
     "text": [
      "695 ms ± 44.2 ms per loop (mean ± std. dev. of 5 runs, 1 loop each)\n"
     ]
    }
   ],
   "source": [
    "%%timeit -r 5 -n 1\n",
    "for y in Y.T:\n",
    "    x_min = solve_QR(Q,R,y)"
   ]
  },
  {
   "cell_type": "markdown",
   "id": "4a556a51",
   "metadata": {},
   "source": [
    "As expected, solving $\\boldsymbol{y}=A\\boldsymbol{x}$ for $\\boldsymbol{x}$ takes less time using the already computed $QR$-decomposition than using `scipy.linalg.solve()`. This implies that using the $QR$-decomposition is time-saving if we are to solve many equations using only one matrix $A$, as finding $Q$ and $R$ only has to be done once, whereas solving the equations are performed many times. On the contrary, if we are to solve few equations per matrix $A$, it is more time efficient to use `numpy.linalg.solve()`. \n",
    "\n",
    "In total, we see that the QR-decompositioning takes more time than NumPy to solve the 100 equations. Assuming that the time it takes per calculation stays the same, knowing that QR takes 35 seconds to decompose and 0.6 seconds to solve 100 equations, and calculating $AA^T$ takes 0.4 seconds and NumPy uses 14 seconds to solve, we can calculate that QR-decompositioning should take less time in total if we are to calculate more than $\\sim 250$ equations of this size.\n",
    "\n",
    "To test difference in accuracy, we can compare the norm $\\|x_{min}-x_{true}\\|$ for QR-decomposition and use of numpy, and see whether the norms are the same. We do so by saving all $x_{min}$ that we calculate and then plot the norms for the two methods, together. In the plot, I also include the norms of $x_{min}$ and $x_{true}$, so that we can see whether the solution we find is meaningful compared to $x_{true}$. I also print the first calculated norm for QR-decompositioning and NumPy, to make a quantitative comparison between the two."
   ]
  },
  {
   "cell_type": "code",
   "execution_count": 11,
   "id": "dbbc70ea",
   "metadata": {},
   "outputs": [],
   "source": [
    "# Calculate x for QR and numpy\n",
    "x_QR = np.zeros((8096,100))\n",
    "x_NP = np.zeros((8096,100))\n",
    "for i, y in enumerate(Y.T):\n",
    "    x_QR[:,i] = solve_QR(Q,R,y)\n",
    "    z = np.linalg.solve(AAT, y)\n",
    "    x_NP[:,i] = A.T@z"
   ]
  },
  {
   "cell_type": "code",
   "execution_count": 14,
   "id": "e5336ea9",
   "metadata": {},
   "outputs": [],
   "source": [
    "# Calculate norms\n",
    "norm_num = np.arange(100)\n",
    "norm_QR = []\n",
    "norm_NP = []\n",
    "norm_true = []\n",
    "norm_min = []\n",
    "for i in range(N):\n",
    "    norm_QR.append(np.linalg.norm(x_QR[:,i]-X[:,i],2))\n",
    "    norm_NP.append(np.linalg.norm(x_NP[:,i]-X[:,i],2))\n",
    "    norm_true.append(np.linalg.norm(X[:,i]))\n",
    "    norm_min.append(np.linalg.norm(x_QR[:,i]))"
   ]
  },
  {
   "cell_type": "code",
   "execution_count": 15,
   "id": "fb4a3967",
   "metadata": {},
   "outputs": [
    {
     "data": {
      "image/png": "[encoded data removed]",
      "text/plain": [
       "<Figure size 1080x504 with 1 Axes>"
      ]
     },
     "metadata": {
      "needs_background": "light"
     },
     "output_type": "display_data"
    },
    {
     "name": "stdout",
     "output_type": "stream",
     "text": [
      "Norms of difference using QR:  77.55077699934321\n",
      "Norms of difference using NP:  77.55077699934321\n"
     ]
    }
   ],
   "source": [
    "# Plot norms\n",
    "plt.figure(figsize=(15,7))\n",
    "plt.plot(norm_num, norm_QR)\n",
    "plt.plot(norm_num, norm_NP)\n",
    "plt.plot(norm_num, norm_true)\n",
    "plt.plot(norm_num, norm_min)\n",
    "plt.legend([\"$\\||x_{min, QR}-x_{true}\\||$\", \"$\\||x_{min, NP}-x_{true}\\||$\", \"$x_{true}$\", \"$x_{min}$\"])\n",
    "plt.title(\"Norm of QR decomposition and numpy.linalg.solve()\")\n",
    "plt.xlabel(\"Equation number\")\n",
    "plt.ylabel(\"Norm\")\n",
    "plt.show()\n",
    "\n",
    "print(\"Norms of difference using QR: \", norm_QR[0])\n",
    "print(\"Norms of difference using NP: \", norm_NP[0])"
   ]
  },
  {
   "cell_type": "markdown",
   "id": "2a1f6b19",
   "metadata": {},
   "source": [
    "We see that the norms we printed for QR and NumPy are identical, meaning that there is no difference in numerical accuracy for the two. This is true for all calculated solutions since the plotted norms are overlapping. Thus, both methods reach the same minimizer, which we can assume is the (uniquely) best solution to the problem.\n",
    "\n",
    "What is also interesting to note is that the solution $x_{min}$ has a way lower norm than $x_{true}$, meaning that our calculated solution is a better solution to the minimal norm problem than $x_{true}$. If we were to guess a random solution for $x$, which we know is uniformly distributed between -1 and 1, guessing $x_{min} = \\vec{0}$ would be the most logical guess, which would result in a difference in norm equal to the norm of $x_{true}$. Thus, we can conclude that we find a solution in a meaningful way, as $\\|x_{min}-x_{true}\\|$ is lower than $\\|\\vec{0}-x_{true}\\|$."
   ]
  },
  {
   "cell_type": "markdown",
   "id": "26b5ee6a",
   "metadata": {},
   "source": [
    "***\n",
    "### Task 2)\n",
    "\n",
    "Now we switch from the minimal norm solution to Tikhonov regularisation, which involves solving the optimization problem\n",
    "\n",
    "$$\n",
    "\\underset{\\boldsymbol{x}\\in\\mathbb{R}^n}{\\text{arg min}}\\hspace{0.1cm} \\|Ax-y\\|+\\mu\\|x\\|.\n",
    "$$\n",
    "\n",
    "Here, we add $\\mu\\|x\\|$ to the minimization problem so that the problem not only is to find a solution of $Ax-y=0$, but also to have $x$ be as small as possible.\n",
    "\n",
    "\n",
    "#### a)\n",
    "\n",
    "Same as for the minimal norm solution, we know that a solution of the Tikhonov regularisation $T(\\boldsymbol{x}) = \\|A\\boldsymbol{x}-\\boldsymbol{y}\\|^2+\\mu\\|\\boldsymbol{x}\\|^2$ satisfies $\\nabla_xT(x)=0$. Thus, we need to calculate \n",
    "\n",
    "$$\n",
    "\\begin{aligned}\n",
    "\\nabla_xT(x)&=\\nabla_x(\\|A\\boldsymbol{x}-\\boldsymbol{y}\\|^2+\\mu\\|\\boldsymbol{x}\\|^2)\\\\\n",
    "&=\\nabla_x(\\|A\\boldsymbol{x}-\\boldsymbol{y}\\|^2)+\\nabla_x(\\mu\\|\\boldsymbol{x}\\|^2)\\\\\n",
    "\\end{aligned}\n",
    "$$\n",
    "\n",
    "We know from task 1 that $\\nabla_x(\\|\\boldsymbol{x}\\|^2)=2 \\boldsymbol{x}$. By writing out $A\\boldsymbol{x}-\\boldsymbol{y}=\\sum_{i=1}^{m}\\sum_{j=1}^{n}(a_{ij}x_j-y_j)^2$, we see that \n",
    "\n",
    "$$\n",
    "\\frac{\\partial}{\\partial x_j}(A\\boldsymbol{x}-\\boldsymbol{y})=2\\sum_{i=1}^{m}(a_{ij}^2x_j-y_j)\\Rightarrow \\nabla_x(\\|A\\boldsymbol{x}-\\boldsymbol{y}\\|^2)=2A^TA\\boldsymbol{x}-2A^T\\boldsymbol{y}.\n",
    "$$\n",
    "\n",
    "Hence, we get\n",
    "\n",
    "$$\n",
    "\\nabla_xT(x)=\\nabla_x(\\|A\\boldsymbol{x}-\\boldsymbol{y}\\|^2+\\mu\\|\\boldsymbol{x}\\|^2)=0\\\\\n",
    "\\Rightarrow 2A^TA\\boldsymbol{x}-2A^T\\boldsymbol{y}+2\\mu\\boldsymbol{x}=0\\\\\n",
    "\\Rightarrow 2A^TA\\boldsymbol{x}+2\\mu\\boldsymbol{x}=2A^T\\boldsymbol{y}\\\\\n",
    "\\Rightarrow (A^TA+\\mu I)\\boldsymbol{x}=A^T\\boldsymbol{y}.\n",
    "$$\n",
    "\n",
    "This is the equation we use to solve for $\\boldsymbol{x}$ when implementing code later on. However, to further simplify the equation and make calculations easier, we want to prove that $(A^TA+\\mu I)$ is invertible. We know that a symmetric positive definite matrix (SPD) is invertible, so proving that $(A^TA+\\mu I)$ is SPD is sufficient. First, we show that it is symmetric.\n",
    "\n",
    "$$\n",
    "(A^TA+\\mu I)^T=(A^TA)^T+(\\mu I)^T=A^TA+\\mu I \\qquad \\square\n",
    "$$\n",
    "\n",
    "The matrix is SPD if $x^T(A^TA+\\mu I)x>0$. To prove this we use that $\\|Ax\\|\\geq0$, $\\|x\\|>0$ for $x\\neq0$, and that $\\mu>0$, which gives\n",
    "\n",
    "$$\n",
    "x^T(A^TA+\\mu I)x = x^TA^TAx+x^T\\mu Ix=(Ax)^TAx+\\mu x^Tx=\\|Ax\\|+\\mu \\|x\\|>0 \\qquad \\square\n",
    "$$\n",
    "\n",
    "Thus, $A^TA + \\mu I$ is SPD and therefore also invertible.\n",
    "***"
   ]
  },
  {
   "cell_type": "markdown",
   "id": "55120bb0",
   "metadata": {},
   "source": [
    "#### b)\n",
    "Inserting $A = U\\Sigma V^T$ in $(A^TA+\\mu I)\\boldsymbol{x}=A^T\\boldsymbol{y}$ gives:\n",
    "\n",
    "$$\n",
    "((U\\Sigma V^T)^T(U\\Sigma V^T)+\\mu I)\\boldsymbol{x}=(U\\Sigma V^T)^T\\boldsymbol{y}\\\\\n",
    "(V\\Sigma^T U^TU\\Sigma V^T+\\mu I)\\boldsymbol{x}=V\\Sigma^TU^T\\boldsymbol{y}\\\\\n",
    "$$\n",
    "\n",
    "Since $U$ is unitary and real, we know that $U^TU=UU^T=I$. By the definition of SVD, we also know that $VV^T=I$, and that $V$ is invertible. Using the fact that for diagonal matrices $D_1$ and $D_2$, $VD_1V^T+VD_2V^T=V(D_1+D_2)V^T$, knowing that $\\Sigma^T\\Sigma$ and $\\mu I$ are diagonal (and thus, $\\Sigma^T\\Sigma+\\mu I$ is diagonal), we get that\n",
    "\n",
    "$$\n",
    "(V\\Sigma^T\\Sigma V^T+V(\\mu I)V^T)\\boldsymbol{x}=V\\Sigma^TU^T\\boldsymbol{y}\\\\\n",
    "(V(\\Sigma^T\\Sigma+\\mu I)V^T)\\boldsymbol{x}=V\\Sigma^TU^T\\boldsymbol{y}\\\\\n",
    "(\\Sigma^T\\Sigma+\\mu I)V^T\\boldsymbol{x}=\\Sigma^TU^T\\boldsymbol{y}\n",
    "$$\n",
    "\n",
    "On the left side, we see that $\\Sigma^T\\Sigma+\\mu I$ is on the same form as the matrix in task 2)a), which we proved that is invertible. Using this, we find that\n",
    "\n",
    "$$\n",
    "\\boldsymbol{x}=V(\\Sigma^T\\Sigma+\\mu I)^{-1}\\Sigma^TU^T\\boldsymbol{y}\n",
    "$$\n",
    "\n",
    "Since $(\\Sigma^T\\Sigma+\\mu I)^{-1}$ and $\\Sigma^T$ are diagonal, $(\\Sigma^T\\Sigma+\\mu I)^{-1}\\Sigma^T=D$ is diagonal, so we can write\n",
    "\n",
    "$$\n",
    "\\boldsymbol{x}=VDU^T\\boldsymbol{y} \\quad \\square\n",
    "$$\n",
    "\n",
    "***"
   ]
  },
  {
   "cell_type": "markdown",
   "id": "72525a07",
   "metadata": {},
   "source": [
    "#### c)\n",
    "Now we implemement the equation from b) to solve for $\\boldsymbol{x_r}$ using the SVD of $A$. We do so in the function `Tikhonov_solveSVD()`. Since the matrix $D_1=\\Sigma^T\\Sigma+\\mu I$ is a square diagonal matrix with $\\sigma_{ii}^2+\\mu$ as entries, $D=D_1^{-1}\\Sigma^T$ will be a diagonal nxm matrix with entries $\\frac{\\sigma_{ii}}{\\sigma_{ii}^2+\\mu}$."
   ]
  },
  {
   "cell_type": "code",
   "execution_count": 16,
   "id": "59383ba3",
   "metadata": {},
   "outputs": [],
   "source": [
    "def Tikhonov_solveSVD(U, S, Vt, mu, y):\n",
    "    \"\"\"\n",
    "    Solve for x_r using the singular value decomposition of A.\n",
    "    Input:\n",
    "        U:   mxm matrix, unitary\n",
    "        S:   mx1 vector containing diagonal elements of Sigma\n",
    "        Vt:  nxn matrix, the transpose of V, which is orthogonal\n",
    "        mu:  Weighting factor (float)\n",
    "        y:   mx1 vector\n",
    "    Output:\n",
    "        x_r: nx1 vector containing solution of the equation x_r = VDUt y\n",
    "    \"\"\"\n",
    "    \n",
    "    n = np.size(Vt[0])\n",
    "    m = np.size(U[0])\n",
    "    \n",
    "    # Create D\n",
    "    D = np.zeros((n,m))\n",
    "    for i in range(m):\n",
    "        D[i,i] = S[i]/(S[i]**2+mu)\n",
    "\n",
    "    # Calculate x_r from equation in 2)b)\n",
    "    x_r = Vt.T@D@U.T@y\n",
    "    return x_r"
   ]
  },
  {
   "cell_type": "markdown",
   "id": "4d2b4976",
   "metadata": {},
   "source": [
    "***\n",
    "\n",
    "#### d)\n",
    "\n",
    "To easier test our solver and compare it to Numpy, I create two functions: one for solving the equation $(A^TA+\\mu I)\\boldsymbol{x}=A^T\\boldsymbol{y}$ using singular value decomposition, `calculate_xr_SVD()`, and one for solving using Numpy, `calculate_xr_NP()`."
   ]
  },
  {
   "cell_type": "code",
   "execution_count": 17,
   "id": "b9deba1c",
   "metadata": {},
   "outputs": [],
   "source": [
    "def calculate_xr_SVD(A, y, mu_array):\n",
    "    \"\"\"\n",
    "    Solve (A.TA + mu*I)x_r = A.Ty using singular value decomposition of A, for different values of mu.\n",
    "    Input:\n",
    "        A:          mxn matrix\n",
    "        y:          mx1 vector\n",
    "        mu_array:   array containing different values for mu\n",
    "    Output:\n",
    "        x_r_matrix: matrix containing a solution x_r per mu, as columns\n",
    "    \"\"\"\n",
    "    # Find singular value decomposition\n",
    "    U, S, Vt = np.linalg.svd(A)\n",
    "    x_r_matrix = np.zeros((len(A[0]), len(mu_array))).T # Transposed to avoid slicing\n",
    "    \n",
    "    # Add each solution to x_r_matrix\n",
    "    for i, mu in enumerate(mu_array):\n",
    "        x_r_matrix[i] = Tikhonov_solveSVD(U, S, Vt, mu, y)\n",
    "    return x_r_matrix.T\n",
    "\n",
    "def calculate_xr_NP(ATA, ATy, mu_array):\n",
    "    \"\"\"\n",
    "    Solve (A.TA + mu*I)x_r = A.Ty using np.linalg.solve(), for different values of mu.\n",
    "    Input:\n",
    "        ATA:        nxn matrix\n",
    "        ATy:        nx1 vector\n",
    "        mu_array:   array containing different values for mu\n",
    "    Output:\n",
    "        x_r_matrix: matrix containing a solution x_r per mu, as columns\n",
    "    \"\"\"\n",
    "    x_r_matrix = np.zeros((len(ATA.T[0]),len(mu_array))).T # Transposed to avoid slicing\n",
    "    \n",
    "    # Add each solution to x_r_matrix\n",
    "    for i, mu in enumerate(mu_array):\n",
    "        x_r_matrix[i] = np.linalg.solve(ATA+mu*np.identity(np.size(x_r_matrix[0])), ATy)\n",
    "    return x_r_matrix.T"
   ]
  },
  {
   "cell_type": "markdown",
   "id": "5427fd2f",
   "metadata": {},
   "source": [
    "To reduce the computation time, I reduce the matrix dimensions by half, i.e. $m=1024$ and $n=4048$."
   ]
  },
  {
   "cell_type": "code",
   "execution_count": 18,
   "id": "c446318b",
   "metadata": {},
   "outputs": [],
   "source": [
    "# Use half sized m and n\n",
    "m_2 = int(m/2)\n",
    "n_2 = int(n/2)\n",
    "\n",
    "# Calculate new A and other necessary matrices\n",
    "A_2 = generate_A(m_2,n_2)\n",
    "X_2 = np.random.normal(0.0,1.0,(A_2.shape[1],N))\n",
    "Y_2 = np.dot(A_2,X_2)\n",
    "y_2 = Y_2[:,0]  # Only use first y-vector\n",
    "ATA = A_2.T@A_2\n",
    "ATy = A_2.T@y_2\n",
    "\n",
    "# Use 100 logarithmically spaced values for mu between 10^-6 and 10^6.\n",
    "mu_array_SVD = np.logspace(6,-6,100)\n",
    "mu_array_NP = np.logspace(6,-6,100)"
   ]
  },
  {
   "cell_type": "markdown",
   "id": "74fe26ed",
   "metadata": {},
   "source": [
    "Now let us test how long it takes to solve the equation for 100 different values of $\\mu$ using (1) singular value decomposition and (2) `numpy.linalg.solve()`."
   ]
  },
  {
   "cell_type": "code",
   "execution_count": 19,
   "id": "ad6cd65b",
   "metadata": {},
   "outputs": [
    {
     "name": "stdout",
     "output_type": "stream",
     "text": [
      "56 s ± 0 ns per loop (mean ± std. dev. of 1 run, 1 loop each)\n"
     ]
    }
   ],
   "source": [
    "%%timeit -r 1    # Time total SVD calculation for 100 mu-values\n",
    "x_r_SVD = calculate_xr_SVD(A_2, y_2, mu_array_SVD)"
   ]
  },
  {
   "cell_type": "code",
   "execution_count": 20,
   "id": "73673285",
   "metadata": {},
   "outputs": [
    {
     "name": "stdout",
     "output_type": "stream",
     "text": [
      "1min 12s ± 0 ns per loop (mean ± std. dev. of 1 run, 1 loop each)\n"
     ]
    }
   ],
   "source": [
    "%%timeit -r 1    # Time total numpy calculation time for 100 mu-values\n",
    "x_r_NP = calculate_xr_NP(ATA, ATy, mu_array_NP)"
   ]
  },
  {
   "cell_type": "markdown",
   "id": "4b712587",
   "metadata": {},
   "source": [
    "SVD is a bit faster than using `numpy.linalg.solve()`, but only by about 10-15 seconds. This is, similar to the QR-decompositioning, because we only need to factor $A$ once, and then we can use the same SVD for each calculation.\n",
    "\n",
    "Next, let us look at the accuracy of the two methods. We do so by looking at the norm $\\|x_r-x_{true}\\|$, where $x_{true}$ is the actual x-value that we create at the same time as $A$. Then we plot the norms."
   ]
  },
  {
   "cell_type": "code",
   "execution_count": 21,
   "id": "738b7628",
   "metadata": {},
   "outputs": [],
   "source": [
    "x_r_SVD = calculate_xr_SVD(A_2, y_2, mu_array_SVD)\n",
    "x_r_NP = calculate_xr_NP(ATA, ATy, mu_array_NP)"
   ]
  },
  {
   "cell_type": "code",
   "execution_count": 22,
   "id": "e6932530",
   "metadata": {
    "scrolled": false
   },
   "outputs": [
    {
     "data": {
      "image/png": "[encoded data removed]",
      "text/plain": [
       "<Figure size 1152x576 with 1 Axes>"
      ]
     },
     "metadata": {
      "needs_background": "light"
     },
     "output_type": "display_data"
    }
   ],
   "source": [
    "# Calculate error for SVD\n",
    "norms_SVD = []\n",
    "for x_r in x_r_SVD.T:\n",
    "    norms_SVD.append(np.linalg.norm(x_r-X_2[:,0]))\n",
    "    \n",
    "# Calculate error for numpy.linalg.solve\n",
    "norms_NP = []\n",
    "for x_r in x_r_NP.T:\n",
    "    norms_NP.append(np.linalg.norm(x_r-X_2[:,0]))\n",
    "\n",
    "# Plot\n",
    "plt.figure(figsize=(16,8))\n",
    "plt.plot(mu_array_SVD, norms_SVD)\n",
    "plt.plot(mu_array_NP, norms_NP)\n",
    "plt.plot(mu_array_SVD, [norms_SVD[-1] for i in range(len(mu_array_SVD))],\"--\")\n",
    "plt.legend(['SVD', 'Numpy', '$x_{r}$'])\n",
    "plt.semilogx()\n",
    "plt.title(\"Norm for our method compared to numpy.linalg.solve()\")\n",
    "plt.xlabel(\"$\\mu$\")\n",
    "plt.ylabel(\"$\\||x_r-x_{true}\\||$\")\n",
    "plt.show()"
   ]
  },
  {
   "cell_type": "markdown",
   "id": "212b6323",
   "metadata": {},
   "source": [
    "The norm for both methods are basically identical. For all $\\mu<10^{-1}$, the norm remains stable at a low level, which shows that a low $\\mu$ results in a low error compared to the value of $\\boldsymbol{x}_{true}$. Thus, low values of $\\mu$ results in the best reconstruction of $\\boldsymbol{x}_{true}$. The reason for this can be seen in the definition of our Tikhonov optimization problem, which was to minimize $T(\\boldsymbol{x})=\\|A\\boldsymbol{x}-\\boldsymbol{y}\\|^2+\\mu\\|\\boldsymbol{x}\\|^2$. As $\\mu$ gets smaller, the problem is dominated more and more by $\\|A\\boldsymbol{x}-\\boldsymbol{y}\\|^2$, which we know is minimized when $\\boldsymbol{x_r}$ is closer to $\\boldsymbol{x_{true}}$, as we defined $\\boldsymbol{y}$ as $\\boldsymbol{y}=A\\boldsymbol{x_{true}}$. For large values of $\\mu$, however, the problem is dominated by $\\mu\\|\\boldsymbol{x}\\|$, meaning that the \"best\" solution now becomes the $\\boldsymbol{x_r}$ with the lowest norm, so the solution approaches $\\boldsymbol{x}=\\vec{0}$ as $\\mu\\rightarrow \\infty$. We should be able to see this by printing the norm of $x_r$ where $\\mu=10^6$ and $\\mu = 10^{-6}$:"
   ]
  },
  {
   "cell_type": "code",
   "execution_count": 23,
   "id": "14be8d1c",
   "metadata": {},
   "outputs": [
    {
     "name": "stdout",
     "output_type": "stream",
     "text": [
      "0.15005960158293416\n",
      "31.032564185061403\n"
     ]
    }
   ],
   "source": [
    "print(np.linalg.norm(x_r_SVD.T[0]))  # Mu = 10^6\n",
    "print(np.linalg.norm(x_r_SVD.T[-1])) # Mu = 10^-6"
   ]
  },
  {
   "cell_type": "markdown",
   "id": "69e236ac",
   "metadata": {},
   "source": [
    "As expected, the norm is close to zero when $\\mu$ is large, and the norm is higher when $\\mu$ is small."
   ]
  },
  {
   "cell_type": "markdown",
   "id": "42b07e49",
   "metadata": {},
   "source": [
    "***\n",
    "### Task 3)\n",
    "\n",
    "Now we look at a so-called single channel source separation problem, where we have a vector $y$ containing a picture where a \"0\" and a \"1\" is mixed together, which we want to separate into two pictures $u$ and $v$ containing the \"0\" and the \"1\", respectively. We start off by looking at a matrix $B=I-WW^T$, and then continue to do the picture separation. Here, $W$ is a basis for a picture, and we first wish to show that $B$ is a projection matrix.\n",
    "\n",
    "#### a)\n",
    "\n",
    "We have $B=I-WW^T$. $W$ has pairwise orthogonal column vectors, meaning that $\\langle w_i^T,w_j\\rangle=\\delta_{ij}$, where $\\delta_{ij}$ is the Kronecker delta.\n",
    "\n",
    "For an arbitrary projection matrix $P$, we have $P^2=P$. By looking at the eigenvalues and eigenvectors of $P$, we find that\n",
    "\n",
    "$$\n",
    "P\\boldsymbol{x}=\\lambda\\boldsymbol{x}\\\\\n",
    "P^2\\boldsymbol{x}=P(P\\boldsymbol{x})=P(\\lambda\\boldsymbol{x})=\\lambda^2\\boldsymbol{x}\\\\\n",
    "\\Rightarrow \\lambda^2=\\lambda\\Rightarrow \\lambda = 0 \\vee \\lambda = 1\n",
    "$$\n",
    "\n",
    "So projection matrices can only have eigenvalues 0 and 1. Looking at $B^2$,\n",
    "\n",
    "$$\n",
    "B^2 = (I-WW^T)^2 = I-2WW^T+WW^TWW^T\n",
    "$$\n",
    "\n",
    "Assuming $W^TW$ is a projection since $W^T$ is orthogonal, $W^TW$ can only have eigenvalues 0 and 1. Looking at $W^TW$, we see that\n",
    "\n",
    "$$\n",
    "W^TW=\n",
    "\\begin{bmatrix}\n",
    "\\langle w_1^T,w_1\\rangle&\\dots&\\langle w_1^T,w_n\\rangle \\\\\n",
    "\\vdots&\\ddots&\\vdots \\\\\n",
    "\\langle w_n^T,w_1\\rangle&\\dots&\\langle w_n^T,w_n\\rangle\n",
    "\\end{bmatrix}\n",
    "=\n",
    "\\begin{bmatrix}\n",
    "1&0&\\dots&0 \\\\\n",
    "0&1&\\dots&0\\\\\n",
    "\\vdots&\\vdots&\\ddots&\\vdots \\\\\n",
    "0&0&\\dots&1\n",
    "\\end{bmatrix}\n",
    "=I\n",
    "$$\n",
    "\n",
    "\n",
    "\n",
    "Therefore we get\n",
    "\n",
    "$$\n",
    "B^2=I-2WW^T+WW^T=I-WW^T=B \\quad \\square\n",
    "$$\n",
    "\n",
    "This means that $B$ is a projection matrix, and all its eigenvalues are either 0 or 1. Thus, if $B$ is symmetric, it is symmetric positive semi-definite. As we see by looking at $B^T$,\n",
    "\n",
    "$$\n",
    "B^T=(I-WW^T)^T=I^T-(WW^T)^T=I-WW^T=B,\n",
    "$$\n",
    "\n",
    "which means that B is symmetric positive semi-definite.\n",
    "***"
   ]
  },
  {
   "cell_type": "markdown",
   "id": "1bbb1802",
   "metadata": {},
   "source": [
    "#### b)\n",
    "\n",
    "For the minimal norm solution of the single channel source separation, the problem becomes\n",
    "\n",
    "$$\n",
    "\\underset{x}{\\text{arg min}}\\hspace{0.1cm} \\frac{1}{2}\\boldsymbol{x}^TB\\boldsymbol{x},\\hspace{0.5cm}\\text{s.t.}\\hskip{0.1cm}A\\boldsymbol{x}=\\boldsymbol{y}\n",
    "$$\n",
    "\n",
    "where we define\n",
    "\n",
    "$$\n",
    "B=\\begin{bmatrix}B_0&0\\\\0&B_1\\end{bmatrix},\\quad B_0 = I-W_0W_0^T,\\quad B_1=I-W_1W_1^T,\\quad \\boldsymbol{x}=\\begin{bmatrix}\\boldsymbol{u}\\\\\\boldsymbol{v}\\end{bmatrix}, \\quad A = [I\\quad I].\n",
    "$$\n",
    "\n",
    "##### 1)\n",
    "\n",
    "The Lagrange function for our minimization problem is $\\mathcal{L}(x,\\lambda)=\\frac{1}{2}x^TBx+\\lambda^T(Ax-y)$. The solution is where $\\nabla_x \\mathcal{L}(x,\\lambda)=\\nabla_\\lambda \\mathcal{L}(x,\\lambda) = 0$. \n",
    "\n",
    "$$\n",
    "\\begin{aligned}\n",
    "\\nabla_x \\mathcal{L}(x,\\lambda)&=\\nabla_x(\\frac{1}{2}x^TBx+\\lambda^T(Ax-y))=\\nabla_x(\\frac{1}{2}x^TBx)+\\nabla_x(\\lambda^T(Ax-y)) = 0\\\\\n",
    "\\nabla_\\lambda\\mathcal{L}(x,\\lambda)&=\\nabla_\\lambda(\\frac{1}{2}x^TBx+\\lambda^T(Ax-y))=\\nabla_\\lambda(\\lambda^T(Ax-y))=0\n",
    "\\end{aligned}\n",
    "$$\n",
    "\n",
    "From exercise 2 we know that $\\nabla_x(\\frac{1}{2}x^TBx)=(\\frac{1}{2}B^T+\\frac{1}{2}B)x$, and from task 1)c) we know that $\\nabla_x(\\lambda^T(Ax-y))=A^T\\lambda$ and that $\\nabla_\\lambda(\\lambda^T(Ax-y))=Ax-y$. This means that we end up with the system\n",
    "\n",
    "$$\n",
    "\\begin{aligned}\n",
    "\\nabla_x \\mathcal{L}(x,\\lambda)&=(\\frac{1}{2}B^T+\\frac{1}{2}B)x+A^T\\lambda=0\\\\\n",
    "\\nabla_\\lambda\\mathcal{L}(x,\\lambda)&=Ax-y=0\\Rightarrow Ax+0\\cdot \\lambda = y,\n",
    "\\end{aligned}\n",
    "$$\n",
    "\n",
    "which in matrix form can be written as\n",
    "\n",
    "$$\n",
    "\\begin{bmatrix}\n",
    "\\frac{1}{2}B^T+\\frac{1}{2}B&A^T\\\\A&0\n",
    "\\end{bmatrix}\n",
    "\\begin{bmatrix}\n",
    "x\\\\\\lambda\n",
    "\\end{bmatrix}\n",
    "=\n",
    "\\begin{bmatrix}\n",
    "0\\\\y\n",
    "\\end{bmatrix}\n",
    "$$\n",
    "\n",
    "From our proof in 3)a), we know that $B_0$ and $B_1$ are symmetric, so $\\frac{1}{2}B_i^T+\\frac{1}{2}B_i=B_i$. Using the earlier definitions $B=\\begin{bmatrix}B_0&0\\\\0&B_1\\end{bmatrix}$, $A= [I\\quad I]$, and $x=\\begin{bmatrix}u\\\\v\\end{bmatrix}$ the system becomes\n",
    "\n",
    "$$\n",
    "\\begin{bmatrix}\n",
    "\\frac{1}{2}B_0^T+\\frac{1}{2}B_0&0&I\\\\\n",
    "0&\\frac{1}{2}B_1^T+\\frac{1}{2}B_1&I\\\\\n",
    "I&I&0\n",
    "\\end{bmatrix}\n",
    "\\begin{bmatrix}\n",
    "u\\\\v\\\\\\lambda\n",
    "\\end{bmatrix}\n",
    "=\n",
    "\\begin{bmatrix}\n",
    "0\\\\0\\\\y\n",
    "\\end{bmatrix}\n",
    "$$\n",
    "\n",
    "$$\n",
    "\\begin{bmatrix}\n",
    "I-W_0W_0^T&0&I\\\\\n",
    "0&I-W_1W_1^T&I\\\\\n",
    "I&I&0\n",
    "\\end{bmatrix}\n",
    "\\begin{bmatrix}\n",
    "u\\\\v\\\\\\lambda\n",
    "\\end{bmatrix}\n",
    "=\n",
    "\\begin{bmatrix}\n",
    "0\\\\0\\\\y\n",
    "\\end{bmatrix}\n",
    "$$"
   ]
  },
  {
   "cell_type": "markdown",
   "id": "cccd4c4a",
   "metadata": {},
   "source": [
    "##### 2)\n",
    "\n",
    "Now we proceed to eliminating $\\lambda$ by subtracting the second equation from the first. Then, using the third equation, $u+v=y\\Rightarrow v=y-u$, we get that\n",
    "\n",
    "$$\n",
    "\\begin{aligned}\n",
    "(I-W_0W_0^T)u + I\\lambda-(I-W_1W_1^T)v-I\\lambda&=0\\\\\n",
    "(I-W_0W_0^T)u&=(I-W_1W_1^T)v\\\\\n",
    "(I-W_0W_0^T)u&=(I-W_1W_1^T)(y-u)\\\\\n",
    "(2I-W_0W_0^T-W_1W_1^T)u&=(I-W_1W_1^T)y\n",
    "\\end{aligned}\n",
    "$$\n",
    "\n",
    "This shows that the system can be written as $Cu=d$, with $C=2I-W_0W_0^T-W_1W_1^T$ and $d = (I-W_1W_1^T)y$. After finding $u$, we can then use $v = y-u$ to calculate the other \"picture\"."
   ]
  },
  {
   "cell_type": "markdown",
   "id": "8970a582",
   "metadata": {},
   "source": [
    "##### 3)\n",
    "\n",
    "To solve the equation $Cu=d$, we must first import the necessary matrices, i.e. the bases $W_0$ and $W_1$, and 100 test-pictures."
   ]
  },
  {
   "cell_type": "code",
   "execution_count": 24,
   "id": "970bcd86",
   "metadata": {},
   "outputs": [],
   "source": [
    "Mixes = np.load('mixed.npy')\n",
    "W0 = np.load('W0.npy')\n",
    "W1 = np.load('W1.npy')"
   ]
  },
  {
   "cell_type": "markdown",
   "id": "57b98b19",
   "metadata": {},
   "source": [
    "The test-pictures are now columns of `Mixes`. Each picture is a mix between a \"1\" and a \"0\", and our goal is to separate the two numbers into two separate pictures, where `U` contains all pictures of zeroes and `V` contains all pictures of ones. Since separating the pictures means solving $Cu=d$ and $v=y-u$, we can either use QR-decompositioning or `numpy.linalg.solve()`. I would like to test both methods and see which one is the fastest, and to do so I create the function `solve_minimal_norm()`, with an option to use either QR or `np.linalg.solve`. \n",
    "\n",
    "The advantage of using QR is that we only need to decompose $C$ once, and the downside is that the one-time computation requires heavy calculations. `numpy.linalg.solve()`, however, does not require any pre-calculations, but takes longer to calculate each picture as it cannot exploit orthogonal or triangular matrices, which QR-decompositioning can. Thus, the QR method should be slower for one picture, but faster for many pictures. Since  we are to solve for 100 pictures, I expect the QR-solver to be faster than `numpy.linalg.solve()`.\n",
    "\n",
    "In the implementation of the QR-decompositioning I use `np.linalg.qr()` instead of my own implementation of Gram-Schmidt. This is to make the comparison between QR and `np.linalg.solve()` as fair as possible, as numpy-functions tend to be very fast. I do, however, use the `solve_QR()`-function from task 2."
   ]
  },
  {
   "cell_type": "code",
   "execution_count": 25,
   "id": "edbf2c2c",
   "metadata": {},
   "outputs": [],
   "source": [
    "def solve_minimal_norm(Mixes, W0, W1, QR = True):\n",
    "    \"\"\"\n",
    "    Function:\n",
    "        Uses global, imported variables W0, W1 to decompose \"picture\"-\n",
    "        vectors in \"Mixes\" into separate picture-vectors u and v.\n",
    "        \n",
    "    Input:\n",
    "        Mixes: matrix containing \"pictures\" as columns\n",
    "        W0: Matrix, the basis of \"0\"\n",
    "        W1: Matrix, the basis of \"1\"\n",
    "        QR: Default value True. Whether or not it should use QR-decompositioning.\n",
    "    Output:\n",
    "        U: Matrix containing \"decomposed\" zeroes\n",
    "        V: Matrix containing \"decomposed\" ones\n",
    "    \n",
    "    \"\"\"\n",
    "    # Define necessary matrices and lists\n",
    "    I = np.eye(np.size(W0[:,0])) # Identity matrix\n",
    "    C = 2*I-W0@W0.T-W1@W1.T      # Matrix defined in 3)b)2)\n",
    "    if QR:\n",
    "        Q,R = np.linalg.qr(C)    # Only perform QR-decomp. if QR = True\n",
    "    \n",
    "    # Lists to contain all pictures u and v\n",
    "    U = []\n",
    "    V = []\n",
    "    \n",
    "    # Iterate through each picture\n",
    "    for i, picture in enumerate(Mixes.T):\n",
    "        d = (I-W1@W1.T)@picture\n",
    "        \n",
    "        # Use solve_QR() or use np.linalg.solve().\n",
    "        if QR:\n",
    "            u = solve_QR(Q,R,d)\n",
    "        else:\n",
    "            u = np.linalg.solve(C,d)\n",
    "        U.append(u)\n",
    "        V.append(picture - u)\n",
    "        \n",
    "    return np.array(U).T, np.array(V).T"
   ]
  },
  {
   "cell_type": "markdown",
   "id": "90494e53",
   "metadata": {},
   "source": [
    "***\n",
    "#### d)\n",
    "\n",
    "Now we test how long it takes to separate the pictures with `solve_minimal_norm()`, both using QR-decompositioning and `np.linalg.solve()`."
   ]
  },
  {
   "cell_type": "code",
   "execution_count": 26,
   "id": "99ab3e42",
   "metadata": {},
   "outputs": [
    {
     "name": "stdout",
     "output_type": "stream",
     "text": [
      "191 ms ± 3.61 ms per loop (mean ± std. dev. of 7 runs, 1 loop each)\n"
     ]
    }
   ],
   "source": [
    "%%timeit\n",
    "U, V = solve_minimal_norm(Mixes, W0, W1, QR = True)"
   ]
  },
  {
   "cell_type": "code",
   "execution_count": 27,
   "id": "7a85884a",
   "metadata": {},
   "outputs": [
    {
     "name": "stdout",
     "output_type": "stream",
     "text": [
      "192 ms ± 5.43 ms per loop (mean ± std. dev. of 7 runs, 1 loop each)\n"
     ]
    }
   ],
   "source": [
    "%%timeit\n",
    "U, V = solve_minimal_norm(Mixes, W0, W1, QR = True)"
   ]
  },
  {
   "cell_type": "markdown",
   "id": "f31dbc40",
   "metadata": {},
   "source": [
    "As we can see, using QR-decompositioning is much faster than using `np.linalg.solve()`. And this was only for 100 pictures, meaning that if we had more, the difference would be even larger. Nonetheless, both methods were fast, taking less than a second for the 100 pictures.\n",
    "\n",
    "Next, let us see what the decompositions look like. We found in task 1 that there essentially is no difference in numerical accuracy between the two methods, so here we only look at examples from our QR-decompositioning. "
   ]
  },
  {
   "cell_type": "code",
   "execution_count": 28,
   "id": "8ca23686",
   "metadata": {},
   "outputs": [],
   "source": [
    "U, V = solve_minimal_norm(Mixes, W0, W1, QR = True)"
   ]
  },
  {
   "cell_type": "code",
   "execution_count": 29,
   "id": "dc99b9e2",
   "metadata": {},
   "outputs": [
    {
     "data": {
      "image/png": "[encoded data removed]",
      "text/plain": [
       "<Figure size 1008x720 with 6 Axes>"
      ]
     },
     "metadata": {
      "needs_background": "light"
     },
     "output_type": "display_data"
    }
   ],
   "source": [
    "fig, ((ax1,ax2,ax3),(ax4,ax5,ax6)) = plt.subplots(2,3)\n",
    "fig.set_figheight(10)\n",
    "fig.set_figwidth(14)\n",
    "\n",
    "# Add titles\n",
    "ax1.set_title(\"Mixed\")\n",
    "ax2.set_title(\"0\")\n",
    "ax3.set_title(\"1\")\n",
    "ax4.set_title(\"Mixed\")\n",
    "ax5.set_title(\"0\")\n",
    "ax6.set_title(\"1\")\n",
    "\n",
    "# Show plots\n",
    "ax1.imshow(Mixes[:,1].reshape((28,28)), cmap = 'gray')\n",
    "ax2.imshow(U[:,1].reshape((28,28)), cmap = 'gray')\n",
    "ax3.imshow(V[:,1].reshape((28,28)), cmap = 'gray')\n",
    "ax4.imshow(Mixes[:,-1].reshape((28,28)), cmap = 'gray')\n",
    "ax5.imshow(U[:,-1].reshape((28,28)), cmap = 'gray')\n",
    "ax6.imshow(V[:,-1].reshape((28,28)), cmap = 'gray')\n",
    "\n",
    "ax1.axis('off')\n",
    "ax2.axis('off')\n",
    "ax3.axis('off')\n",
    "ax4.axis('off')\n",
    "ax5.axis('off')\n",
    "ax6.axis('off')\n",
    "plt.show()"
   ]
  },
  {
   "cell_type": "markdown",
   "id": "4da9df03",
   "metadata": {},
   "source": [
    "We see that the algorithm is able to separate the mixed image into a 0 and a 1. It is, however, some clear signs of the opposite number in each picture, which shows that the separation is not perfect. Especially in the two examples of ones, we can see a dark circle surrounding the number. Regardless, it is safe to say that the approach using QR-decompositioning works for single channel source separation.\n",
    "\n",
    "The main drawback of this method is the difficulty of finding bases for the pictures, which we could not do ourselves for this project. Thus, if we had many different types of pictures we wanted to separate, finding bases for each picture could become a difficulty."
   ]
  },
  {
   "cell_type": "markdown",
   "id": "48088775",
   "metadata": {},
   "source": [
    "### Conclusion"
   ]
  },
  {
   "cell_type": "markdown",
   "id": "70878916",
   "metadata": {},
   "source": [
    "We have now looked at the minimal norm and Tikhonov regularization approaches of solving underdetermined systems of equations, through the use of QR-decompositioning, `numpy.linalg.solve()` and singular value decompositioning. We found that factoring the matrix $A$ into new matrices by using QR-decompositioning or SVD results in solving the equation faster than `numpy.linalg.solve()`, but at the cost of more time-demanding calculations that has to be done before the equations can be solved. Then, we used the minimal norm solution to perform single channel source separation, and to separate a \"mixed\" picture into two separate ones, for which we can conclude that QR-decompositioning worked well."
   ]
  }
 ],
 "metadata": {
  "kernelspec": {
   "display_name": "Python 3 (ipykernel)",
   "language": "python",
   "name": "python3"
  },
  "language_info": {
   "codemirror_mode": {
    "name": "ipython",
    "version": 3
   },
   "file_extension": ".py",
   "mimetype": "text/x-python",
   "name": "python",
   "nbconvert_exporter": "python",
   "pygments_lexer": "ipython3",
   "version": "3.9.7"
  }
 },
 "nbformat": 4,
 "nbformat_minor": 5
}
